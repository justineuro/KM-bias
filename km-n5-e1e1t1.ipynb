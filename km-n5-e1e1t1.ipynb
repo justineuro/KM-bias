{
 "cells": [
  {
   "cell_type": "raw",
   "id": "8418d61a-6114-47b9-b0df-bf3e7690a438",
   "metadata": {},
   "source": [
    "###\n",
    "# Calculation of the small-sample bias of the Kaplan-Meier (KM) Estimator (Efron and Gill versions) for: \n",
    "# N=5, T=1.0, \n",
    "# f(x) = exp(-x), failure times p.d.f.\n",
    "# g(y) = exp(-y), censoring times p.d.f. \n",
    "# Published values for N=10: Mean KM-Efron=0.0731, Bias=-0.0623 (Chen et al., 1981)\n",
    "# Similar to the Malple V code discussed in the article \"Exact Calculation of the Kaplan-Meier Bias Using \n",
    "# Maple Software\" (Gillespie, B. and J. Uro, 1993) that appeared in \"Mathematical Computation with Maple V: \n",
    "# Ideas and Applications\" (Proceedings of the 1993 Maple Summer Workshop and Symposium).\n",
    "###"
   ]
  },
  {
   "cell_type": "code",
   "execution_count": null,
   "id": "63a0d1e6-3b7b-43aa-b60c-93ccc007a1f2",
   "metadata": {},
   "outputs": [],
   "source": [
    "Nx=5\n",
    "T=1.0\n",
    "fpp=16"
   ]
  },
  {
   "cell_type": "code",
   "execution_count": null,
   "id": "cfbcdf5d-8437-43f5-becf-8da58f208585",
   "metadata": {},
   "outputs": [],
   "source": [
    "import sympy\n",
    "from sympy import *\n",
    "    \n",
    "x=Symbol('x')\n",
    "y=Symbol('y')\n",
    "t=Symbol('t')\n",
    "lmd=1.0"
   ]
  },
  {
   "cell_type": "code",
   "execution_count": null,
   "id": "4b89ab39-ad4b-4e60-ac2f-305da1539405",
   "metadata": {},
   "outputs": [],
   "source": [
    "def f(t):\n",
    "    return exp(-t)\n",
    "def g(t):\n",
    "    return exp(-lmd*t)"
   ]
  },
  {
   "cell_type": "code",
   "execution_count": null,
   "id": "88037c8e-41a9-499c-a8aa-bb81c81b72fe",
   "metadata": {},
   "outputs": [],
   "source": [
    "# evaluates to 2.718281828 ...\n",
    "#f(-1).evalf(10)"
   ]
  },
  {
   "cell_type": "code",
   "execution_count": null,
   "id": "4256f975-86a5-45c1-be7a-b6ffd004439b",
   "metadata": {},
   "outputs": [],
   "source": [
    "def pdf1(x):\n",
    "    \"\"\" pdf for failure times \"\"\"\n",
    "    return f(x)\n",
    "\n",
    "def pdf2(y):\n",
    "    \"\"\" pdf for censoring times \"\"\"\n",
    "    return g(y)"
   ]
  },
  {
   "cell_type": "code",
   "execution_count": null,
   "id": "69b46fb8-1c65-4769-9106-b4fa3289c5b2",
   "metadata": {},
   "outputs": [],
   "source": [
    "def fa(t):\n",
    "    \"\"\" conditional distribution given censoring time is bigger than failure time \"\"\"\n",
    "    return diff(integrate(integrate(pdf1(x)*pdf2(y), (x,y,oo)), (y,0,t)),t) \n",
    "\n",
    "def fb(t):\n",
    "    \"\"\" conditional distribution given failure time is bigger than censoring time \"\"\"\n",
    "    return diff(integrate(integrate(pdf1(x)*pdf2(y), (y,x,oo)), (x,0,t)),t) \n",
    "\n",
    "def fab(t): \n",
    "    \"\"\" conditional distribution given both failure and censoring times exceed t \"\"\"\n",
    "    return fa(t) + fb(t)"
   ]
  },
  {
   "cell_type": "code",
   "execution_count": null,
   "id": "33759f68-9b1e-4ce2-9b36-ff6d8b43af53",
   "metadata": {},
   "outputs": [],
   "source": [
    "Gshat=1\n",
    "sumKME=0\n",
    "KM_Efron=0"
   ]
  },
  {
   "cell_type": "code",
   "execution_count": null,
   "id": "96cd0a88-8e09-4c3d-88c7-fbfebb392f6b",
   "metadata": {},
   "outputs": [],
   "source": [
    "# Case 1: i = 0, X_k, Y_k > t\n",
    "def cdf1(x):\n",
    "    return integrate(pdf1(t), (t, 0, x))\n",
    "def cdf2(y):\n",
    "    return integrate(pdf2(t), (t, 0, y)) "
   ]
  },
  {
   "cell_type": "code",
   "execution_count": null,
   "id": "70f8c4ad-c746-4d6f-ba85-41a37b4d9dd2",
   "metadata": {},
   "outputs": [],
   "source": [
    "Pr = (1 - cdf1(t))**(Nx) * (1 - cdf2(t))**(Nx)\n",
    "sumKME = sumKME + Gshat * Pr\n",
    "print(\"i \", \"j \", \"bj \", \"Gshat \", \"Pr \", \"incKME \", \"sumKME \")\n",
    "print(0,0,bin(0)[2:].zfill(Nx),Gshat, Pr.evalf(fpp, subs={t:T}), (Gshat*Pr).evalf(fpp,subs={t:T}), sumKME.evalf(fpp, subs={t:T}))"
   ]
  },
  {
   "cell_type": "code",
   "execution_count": null,
   "id": "0b355bb8-d438-4237-b3fb-4b04619bbeb1",
   "metadata": {},
   "outputs": [],
   "source": [
    "for i in range(Nx+1)[1:]:\n",
    "    incKME=0\t\n",
    "    for j in range(2**i):\n",
    "        bj=bin(j)[2:]\n",
    "        lbj=len(bj)\n",
    "        if j==0: lbj=1 \n",
    "        p=1\n",
    "        Gshat=1\n",
    "\t\t\n",
    "        for k1 in range(i-lbj+1)[1:]:\n",
    "            p=integrate(p*fa(str(t)+str(k1)),(str(t)+str(k1),0,str(t)+str(k1+1)))\n",
    "\n",
    "        for k2 in range(i+1)[(i-lbj+1):]:\n",
    "            d=('q'+bj)[k2-i+lbj]\n",
    "            if d=='0':\n",
    "                fs=fa(str(t)+str(k2))\n",
    "            else:\n",
    "                fs=fb(str(t)+str(k2))\n",
    "                Gshat=Gshat*((Nx-k2)/(Nx-k2+1))\n",
    "            \n",
    "            if k2<i:\n",
    "                p=integrate(p*fs,(str(t)+str(k2),0,str(t)+str(k2+1)))\n",
    "            else:\n",
    "                p=integrate(p*fs,(str(t)+str(i),0,t))\n",
    "            \n",
    "\n",
    "        for k3 in range(Nx+1)[i+1:]:\n",
    "            if k3<Nx:\n",
    "                p=integrate(p*fab(str(t)+str(k3)), (str(t)+str(k3), t, str(t)+str(k3+1)))\n",
    "            else:\n",
    "                p=integrate(p*fab(str(t)+str(Nx)),(str(t)+str(Nx),t,oo))\n",
    "\n",
    "        Pr = factorial(Nx) * p\n",
    "        incKME = Pr*Gshat\n",
    "        sumKME = sumKME + incKME\n",
    "        print(i,\", \", j, \", \", bj, \", \", Gshat)#, \", \", Pr.evalf(fpp, subs={t:T}), \", \", (Gshat*Pr).evalf(fpp,subs={t:T}), \\\n",
    "              #\", \", sumKME.evalf(fpp, subs={t:T}))\n",
    "    \n",
    "\t\n",
    "\t# Store the KM-Efron after i=Nx-1 \n",
    "    if i==Nx-1: \n",
    "        KM_Efron = sumKME\n",
    "        print(\"\\nKM-Efron = \", sumKME.evalf(fpp, subs={t:T}),\"\\n\")"
   ]
  },
  {
   "cell_type": "code",
   "execution_count": null,
   "id": "cbf4a9ea-5d4b-4788-914a-e82ff78fbd37",
   "metadata": {},
   "outputs": [],
   "source": [
    "print(\"For N = {}, at T = {}: \".format(Nx, T))\n",
    "print(\"S(T) = {} \".format(f(T).evalf(fpp)))\n",
    "print(\"KM-Efron = {} \".format(KM_Efron.evalf(fpp, subs={t:T})))\n",
    "print(\"KM-Gill = {} \".format(sumKME.evalf(fpp, subs={t:T})))\n",
    "print(\"Bias (Efron) = KM-Efron - S(T) = {:.4}\".format((KM_Efron - f(T)).evalf(fpp, subs={t:T})))\n",
    "print(\"Bias (Gill) = KM-Gill - S(T) = {:.4}\".format((sumKME - f(T)).evalf(fpp, subs={t:T})))"
   ]
  }
 ],
 "metadata": {
  "kernelspec": {
   "display_name": "Python 3 (ipykernel)",
   "language": "python",
   "name": "python3"
  },
  "language_info": {
   "codemirror_mode": {
    "name": "ipython",
    "version": 3
   },
   "file_extension": ".py",
   "mimetype": "text/x-python",
   "name": "python",
   "nbconvert_exporter": "python",
   "pygments_lexer": "ipython3",
   "version": "3.11.2"
  }
 },
 "nbformat": 4,
 "nbformat_minor": 5
}
